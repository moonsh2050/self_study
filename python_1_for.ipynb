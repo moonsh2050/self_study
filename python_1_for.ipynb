#for문에 는 크게 2가지 반복문이 있음
#1.for item in var:
#2.for item in range(시작숫자, 종료숫자, 스텝):


#1
# my_list=[1,10,100,2000]
# for x in my_list:
#   print(x)

# my_number=[2,6,8,10]
# for temp in my_number:
#   print(temp)
# print("HI")

#2
# for a in range(0, 10, 1):
#   print(a)
for b in range(0,5): #step 의 default값은 1
  print(b)
print("======================")
for qs in range(10,0,-2):
  print(qs)
